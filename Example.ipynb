{
 "cells": [
  {
   "cell_type": "markdown",
   "metadata": {},
   "source": [
    "#### Import libraries"
   ]
  },
  {
   "cell_type": "code",
   "execution_count": 1,
   "metadata": {},
   "outputs": [],
   "source": [
    "from items import *\n",
    "from character import *\n",
    "from monster import *"
   ]
  },
  {
   "cell_type": "markdown",
   "metadata": {},
   "source": [
    "#### Load items and Monsters and create a few objects"
   ]
  },
  {
   "cell_type": "code",
   "execution_count": 2,
   "metadata": {},
   "outputs": [
    {
     "name": "stdout",
     "output_type": "stream",
     "text": [
      "[Weapon(name=Fist, type=['Blunt'], damage=1), Weapon(name=Sword, type=['Slashing', 'Piercing'], damage=5), Weapon(name=Club, type=['Blunt'], damage=4)]\n",
      "[Armor(name=Shield, armor_value=1), Armor(name=Helmet, armor_value=1), Armor(name=Studded Leather, armor_value=5), Armor(name=Chainmail Shirt, armor_value=6)]\n",
      "[Consumable(name=Light Healing Potion, healing_value=5), Consumable(name=Medium Healing Potion, healing_value=10), Consumable(name=Strong Healing Potion, healing_value=20)]\n",
      "[Bag(name=Sack, size=5), Bag(name=Rucksack, size=10), Bag(name=Lugggage, size=100)]\n",
      "{'trash': [Monster(name=Goblin, type=trash, level=1, hp=5, strength=1, defense=1, dexterity=1, hits=1, weapon=Weapon: Fist, Types: Blunt, Damage: 1, armor=Armor: Shield, Armor Value: 1, bag=Bag: Sack\n",
      "                    Size: 1\n",
      "                    Contents: []),exp_val=1)], 'boss': [Monster(name=Balrog, type=boss, level=1, hp=10, strength=2, defense=2, dexterity=2, hits=1, weapon=Weapon: Fist, Types: Blunt, Damage: 1, armor=Armor: Shield, Armor Value: 1, bag=Bag: Sack\n",
      "                    Size: 1\n",
      "                    Contents: []),exp_val=5)]}\n",
      "Weapon: Sword, Types: ['Slashing', 'Piercing'], Damage: 5\n",
      "Weapon(name=Sword, type=['Slashing', 'Piercing'], damage=5)\n"
     ]
    }
   ],
   "source": [
    "items=load_items('fantasy_items.json')\n",
    "weapons = items['weapons']\n",
    "print(weapons)\n",
    "armor = items['armor']\n",
    "print(armor)\n",
    "consumables = items['consumables']\n",
    "print(consumables)\n",
    "bags = items['bags']\n",
    "print(bags)\n",
    "healing_potion=consumables[0]\n",
    "sword=weapons[1]\n",
    "club=weapons[2]\n",
    "shield=armor[0]\n",
    "sack=bags[0]\n",
    "\n",
    "\n",
    "monsters= load_monsters('fantasy_monsters.json')\n",
    "print(monsters)\n",
    "goblin=monsters['trash'][0]\n",
    "goblin.equip_weapon(sword)\n",
    "goblin.equip_armor(shield)\n",
    "\n",
    "print(sword)\n",
    "print(repr(sword))\n"
   ]
  },
  {
   "cell_type": "markdown",
   "metadata": {},
   "source": [
    "#### Create hero character"
   ]
  },
  {
   "cell_type": "code",
   "execution_count": 3,
   "metadata": {},
   "outputs": [],
   "source": [
    "gandalf=Character(name='Gandalf', \n",
    "                  hp=10,\n",
    "                  strength=2,\n",
    "                  defense=2,\n",
    "                  dexterity=2,\n",
    "                  hits=1,\n",
    "                  weapon=sword,\n",
    "                  armor=shield,\n",
    "                  bag=sack)"
   ]
  },
  {
   "cell_type": "markdown",
   "metadata": {},
   "source": [
    "#### Bag methods demonstration"
   ]
  },
  {
   "cell_type": "code",
   "execution_count": 4,
   "metadata": {},
   "outputs": [
    {
     "name": "stdout",
     "output_type": "stream",
     "text": [
      "[Weapon(name=Club, type=['Blunt'], damage=4), Weapon(name=Sword, type=['Slashing', 'Piercing'], damage=5)]\n",
      "[Weapon(name=Club, type=['Blunt'], damage=4), Weapon(name=Sword, type=['Slashing', 'Piercing'], damage=5), Weapon(name=Sword, type=['Slashing', 'Piercing'], damage=5), Weapon(name=Club, type=['Blunt'], damage=4)]\n",
      "[Weapon(name=Club, type=['Blunt'], damage=4), Weapon(name=Club, type=['Blunt'], damage=4), Weapon(name=Sword, type=['Slashing', 'Piercing'], damage=5), Weapon(name=Sword, type=['Slashing', 'Piercing'], damage=5)]\n"
     ]
    }
   ],
   "source": [
    "gandalf.bag.store(club)\n",
    "gandalf.bag.store(sword)\n",
    "gandalf.bag.organize()\n",
    "print(gandalf.bag.contents)\n",
    "gandalf.bag.store(sword)\n",
    "gandalf.bag.store(club)\n",
    "print(gandalf.bag.contents)\n",
    "gandalf.bag.organize()\n",
    "print(gandalf.bag.contents)"
   ]
  },
  {
   "cell_type": "markdown",
   "metadata": {},
   "source": [
    "#### Combat Demonstration"
   ]
  },
  {
   "cell_type": "code",
   "execution_count": 5,
   "metadata": {},
   "outputs": [
    {
     "name": "stdout",
     "output_type": "stream",
     "text": [
      "Gandalf attacks Goblin for 3 damage.\n",
      "Gandalf attacks Goblin for 5 damage.\n",
      "Gandalf attacks Goblin for 4 damage.\n",
      "Gandalf attacks Goblin for 9 damage.\n",
      "Gandalf attacks Goblin for 4 damage.\n",
      "Gandalf fails to damage Goblin. Goblin's armor is too tough\n",
      "Gandalf fails to damage Goblin. Goblin's armor is too tough\n",
      "Gandalf attacks Goblin for 2 damage.\n",
      "Gandalf attacks Goblin for 7 damage.\n",
      "Gandalf attacks Goblin for 6 damage.\n",
      "Gandalf attacks Goblin for 1 damage.\n",
      "Gandalf attacks Goblin for 2 damage.\n",
      "Gandalf attacks Goblin for 8 damage.\n",
      "Gandalf attacks Goblin for 5 damage.\n",
      "Gandalf attacks Goblin for 7 damage.\n",
      "Gandalf attacks Goblin for 7 damage.\n",
      "Gandalf attacks Goblin for 1 damage.\n",
      "Gandalf attacks Goblin for 6 damage.\n",
      "Gandalf attacks Goblin for 3 damage.\n",
      "Gandalf attacks Goblin for 9 damage.\n",
      "Gandalf attacks Goblin for 4 damage.\n",
      "Gandalf attacks Goblin for 4 damage.\n",
      "Gandalf attacks Goblin for 3 damage.\n",
      "Gandalf attacks Goblin for 3 damage.\n",
      "Gandalf attacks Goblin for 1 damage.\n"
     ]
    }
   ],
   "source": [
    "for i in range(25):\n",
    "    gandalf.attack(goblin)"
   ]
  }
 ],
 "metadata": {
  "kernelspec": {
   "display_name": "Python 3",
   "language": "python",
   "name": "python3"
  },
  "language_info": {
   "codemirror_mode": {
    "name": "ipython",
    "version": 3
   },
   "file_extension": ".py",
   "mimetype": "text/x-python",
   "name": "python",
   "nbconvert_exporter": "python",
   "pygments_lexer": "ipython3",
   "version": "3.12.1"
  }
 },
 "nbformat": 4,
 "nbformat_minor": 2
}
