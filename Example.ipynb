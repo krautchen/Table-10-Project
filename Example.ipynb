{
 "cells": [
  {
   "cell_type": "code",
   "execution_count": 1,
   "metadata": {},
   "outputs": [
    {
     "name": "stdout",
     "output_type": "stream",
     "text": [
      "[Weapon(name=Fist, type=['Blunt'], damage=1), Weapon(name=Sword, type=['Slashing', 'Piercing'], damage=5), Weapon(name=Club, type=['Blunt'], damage=4)]\n",
      "[Armor(name=Shield, armor_value=1), Armor(name=Helmet, armor_value=1), Armor(name=Studded Leather, armor_value=5), Armor(name=Chainmail Shirt, armor_value=6)]\n",
      "[Consumable(name=Light Healing Potion, healing_value=5), Consumable(name=Medium Healing Potion, healing_value=10), Consumable(name=Strong Healing Potion, healing_value=20)]\n",
      "[Bag(name=Sack, size=5), Bag(name=Rucksack, size=10), Bag(name=Lugggage, size=100)]\n",
      "<_io.TextIOWrapper name='fantasy_monsters.json' mode='r' encoding='cp1252'>\n",
      "[Monster(name=1, type=None, level=5, hp=1, strength=1, defense=1, dexterity=1, hits={}, weapon=Weapon(name=1, type=<class 'type'>, damage=1), armor=Armor(name=1, armor_value=1), bag=Bag(name=Sack, size=1))]\n"
     ]
    }
   ],
   "source": [
    "from items import *\n",
    "from character import *\n",
    "from monster import *\n",
    "\n",
    "\n",
    "items=load_items('C:/Users/noahh/OneDrive/Documents/GitHub/Table-10-Project/fantasy_items.json')\n",
    "weapons = items['weapons']\n",
    "print(weapons)\n",
    "armor = items['armor']\n",
    "print(armor)\n",
    "consumables = items['consumables']\n",
    "print(consumables)\n",
    "bags = items['bags']\n",
    "print(bags)\n",
    "healing_potion=consumables[0]\n",
    "sword=weapons[1]\n",
    "club=weapons[2]\n",
    "shield=armor[0]\n",
    "sack=bags[0]\n",
    "monsters= load_monsters('fantasy_monsters.json')\n",
    "print(monsters)\n"
   ]
  },
  {
   "cell_type": "code",
   "execution_count": 5,
   "metadata": {},
   "outputs": [
    {
     "name": "stdout",
     "output_type": "stream",
     "text": [
      "[Monster(name=1)]\n"
     ]
    }
   ],
   "source": []
  },
  {
   "cell_type": "code",
   "execution_count": 2,
   "metadata": {},
   "outputs": [
    {
     "name": "stdout",
     "output_type": "stream",
     "text": [
      "[Consumable(name=Light Healing Potion, healing_value=5)]\n"
     ]
    }
   ],
   "source": [
    "gandalf=Character(name='Gandalf', \n",
    "                  hp=10,\n",
    "                  strength=2,\n",
    "                  defense=2,\n",
    "                  dexterity=2,\n",
    "                  hits=1,\n",
    "                  weapon=sword,\n",
    "                  armor=shield,\n",
    "                  bag=sack)\n",
    "gandalf.bag.store(healing_potion)\n",
    "print(gandalf.bag.contents)\n",
    "balrog=Character(name='Balrog',\n",
    "                 hp=10,\n",
    "                 strength=2,\n",
    "                 defense=2,\n",
    "                 dexterity=1,\n",
    "                 hits=1,\n",
    "                 weapon=club,\n",
    "                 armor=shield,\n",
    "                 bag=sack)\n",
    "\n"
   ]
  },
  {
   "cell_type": "code",
   "execution_count": 3,
   "metadata": {},
   "outputs": [
    {
     "data": {
      "text/plain": [
       "[Consumable(name=Light Healing Potion, healing_value=5),\n",
       " Weapon(name=Club, type=['Blunt'], damage=4),\n",
       " Weapon(name=Sword, type=['Slashing', 'Piercing'], damage=5),\n",
       " Weapon(name=Sword, type=['Slashing', 'Piercing'], damage=5),\n",
       " Weapon(name=Club, type=['Blunt'], damage=4)]"
      ]
     },
     "execution_count": 3,
     "metadata": {},
     "output_type": "execute_result"
    }
   ],
   "source": [
    "gandalf.bag.store(club)\n",
    "gandalf.bag.store(sword)\n",
    "gandalf.bag.organize()\n",
    "gandalf.bag.contents\n",
    "gandalf.bag.store(sword)\n",
    "gandalf.bag.contents\n",
    "gandalf.bag.organize()\n",
    "gandalf.bag.contents\n",
    "gandalf.bag.store(club)\n",
    "gandalf.bag.organize()\n",
    "gandalf.bag.contents"
   ]
  }
 ],
 "metadata": {
  "kernelspec": {
   "display_name": "Python 3",
   "language": "python",
   "name": "python3"
  },
  "language_info": {
   "codemirror_mode": {
    "name": "ipython",
    "version": 3
   },
   "file_extension": ".py",
   "mimetype": "text/x-python",
   "name": "python",
   "nbconvert_exporter": "python",
   "pygments_lexer": "ipython3",
   "version": "3.12.1"
  }
 },
 "nbformat": 4,
 "nbformat_minor": 2
}
