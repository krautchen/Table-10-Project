{
 "cells": [
  {
   "cell_type": "code",
   "execution_count": 2,
   "metadata": {},
   "outputs": [
    {
     "name": "stdout",
     "output_type": "stream",
     "text": [
      "[Weapon(name=Fist, type=['Blunt'], damage=1), Weapon(name=Sword, type=['Slashing', 'Piercing'], damage=5), Weapon(name=Club, type=['Blunt'], damage=4)]\n",
      "[Armor(name=Shield, armor_value=1), Armor(name=Helmet, armor_value=1), Armor(name=Studded Leather, armor_value=5), Armor(name=Chainmail Shirt, armor_value=6)]\n",
      "[Consumable(name=Light Healing Potion, healing_value=5), Consumable(name=Medium Healing Potion, healing_value=10), Consumable(name=Strong Healing Potion, healing_value=20)]\n",
      "[Bag(name=Sack, size=5), Bag(name=Rucksack, size=10), Bag(name=Lugggage, size=100)]\n"
     ]
    }
   ],
   "source": [
    "from items import *\n",
    "from character import *\n",
    "\n",
    "\n",
    "items=load_items('C:/Users/noahh/OneDrive/Documents/GitHub/Table-10-Project/fantasy_items.json')\n",
    "weapons = items['weapons']\n",
    "print(weapons)\n",
    "armor = items['armor']\n",
    "print(armor)\n",
    "consumables = items['consumables']\n",
    "print(consumables)\n",
    "bags = items['bags']\n",
    "print(bags)\n",
    "healing_potion=consumables[0]\n",
    "sword=weapons[1]\n",
    "club=weapons[2]\n",
    "shield=armor[0]\n",
    "sack=bags[0]\n"
   ]
  },
  {
   "cell_type": "code",
   "execution_count": 16,
   "metadata": {},
   "outputs": [
    {
     "name": "stdout",
     "output_type": "stream",
     "text": [
      "['rope', Consumable(name=Light Healing Potion, healing_value=5)]\n",
      "Gandalf fails to damage Balrog. Balrog's armor is too tough\n",
      "Balrog has 1 HP\n",
      "None\n"
     ]
    }
   ],
   "source": [
    "gandalf=Character(name='Gandalf',weapon=sword,armor=shield,bag=sack)\n",
    "gandalf.bag.store(healing_potion)\n",
    "print(gandalf.bag.contents)\n",
    "balrog=Character(name='Balrog',weapon=club,armor=shield,bag=sack)\n",
    "\n",
    "gandalf.attack(balrog)\n",
    "print(balrog.status())"
   ]
  }
 ],
 "metadata": {
  "kernelspec": {
   "display_name": "Python 3",
   "language": "python",
   "name": "python3"
  },
  "language_info": {
   "codemirror_mode": {
    "name": "ipython",
    "version": 3
   },
   "file_extension": ".py",
   "mimetype": "text/x-python",
   "name": "python",
   "nbconvert_exporter": "python",
   "pygments_lexer": "ipython3",
   "version": "3.12.1"
  }
 },
 "nbformat": 4,
 "nbformat_minor": 2
}
